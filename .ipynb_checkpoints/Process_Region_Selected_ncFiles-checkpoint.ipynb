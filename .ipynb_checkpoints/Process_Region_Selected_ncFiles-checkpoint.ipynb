{
 "cells": [
  {
   "cell_type": "code",
   "execution_count": 1,
   "id": "waiting-speed",
   "metadata": {},
   "outputs": [],
   "source": [
    "import cartopy.crs as ccrs\n",
    "import cartopy.feature as cfeature\n",
    "from math import cos, asin, sqrt\n",
    "import matplotlib.pyplot as plt\n",
    "import numpy as np\n",
    "import pickle\n",
    "import math\n",
    "import xarray as xr\n",
    "import netCDF4 as nc\n",
    "from matplotlib import ticker, cm\n",
    "from matplotlib import animation, rc\n",
    "import matplotlib.tri as tri\n",
    "import sys\n",
    "#import metpy.calc as mpcalc\n",
    "#from metpy.cbook import get_test_data\n",
    "#from metpy.interpolate import cross_section\n",
    "import scipy.ndimage as ndimage\n",
    "from mpl_toolkits.axes_grid1 import make_axes_locatable\n",
    "sys.setrecursionlimit(9000)\n",
    "import scipy.ndimage\n",
    "import statistics\n",
    "import scipy.io\n",
    "import h5py\n",
    "from scipy.interpolate import griddata"
   ]
  },
  {
   "cell_type": "code",
   "execution_count": 2,
   "id": "communist-paraguay",
   "metadata": {},
   "outputs": [],
   "source": [
    "SP_PATH = '/media/liran/Liran_Data6/SP/'\n",
    "UP_PATH = '/media/liran/PLR5/Frontera_newSSTruns/UP/'\n",
    "UPhy_PATH = '/media/liran/PLR5/Frontera_newSSTruns/UPhy/'\n",
    "UPsedi12_PATH = '/media/liran/PLR5/Frontera_newSSTruns/UPhysedi12/'\n",
    "UPsedi15_PATH = '/media/liran/PLR5/Frontera_newSSTruns/UPhysedi15/'\n",
    "UPsedi17_PATH = '/media/liran/PLR5/Frontera_newSSTruns/UPhysedi17/'"
   ]
  },
  {
   "cell_type": "code",
   "execution_count": 3,
   "id": "norman-symphony",
   "metadata": {},
   "outputs": [],
   "source": [
    "SP_PATH_Region = '/media/liran/Liran_Data6/Regions/SP/'\n",
    "UP_PATH_Region = '/media/liran/Liran_Data6/Regions/UP/'\n",
    "UPhy_PATH_Region = '/media/liran/Liran_Data6/Regions/UPhy/'\n",
    "UPsedi12_PATH_Region = '/media/liran/Liran_Data6/Regions/UPhysedi12/'\n",
    "UPsedi15_PATH_Region = '/media/liran/Liran_Data6/Regions/UPhysedi15/'\n",
    "UPsedi17_PATH_Region = '/media/liran/Liran_Data6/Regions/UPhysedi17/'"
   ]
  },
  {
   "cell_type": "code",
   "execution_count": 4,
   "id": "natural-client",
   "metadata": {},
   "outputs": [],
   "source": [
    "#Region_names = [\"Australian\",  \"Indian\",  \"Namibian\",  \"Peruvian\",  \"Teri\",  \"Warm\"]\n",
    "Region_names = [\"Australian\",  \"Namibian\",  \"Peruvian\"]\n",
    "Var2Dnames   = [ \"TS\" ,  \"SHFLX\",  \"LHFLX\",  \"FSNS\",  \"FLNS\",  \"TGCLDCWP\"]\n",
    "Var3Dnames   = [\"CLDLIQ\",   \"CLDICE\", \"CLOUD\",      \"AREL\"]"
   ]
  },
  {
   "cell_type": "code",
   "execution_count": 6,
   "id": "caring-aviation",
   "metadata": {},
   "outputs": [
    {
     "name": "stderr",
     "output_type": "stream",
     "text": [
      "\n",
      "KeyboardInterrupt\n",
      "\n"
     ]
    }
   ],
   "source": [
    "ntime = 2161\n",
    "Var_SP         = np.zeros([ntime,125])\n",
    "Var_UP         = np.zeros([ntime,125])\n",
    "Var_UPhy       = np.zeros([ntime,125])\n",
    "Var_UPhysedi12 = np.zeros([ntime,125])\n",
    "Var_UPhysedi15 = np.zeros([ntime,125])\n",
    "Var_UPhysedi17 = np.zeros([ntime,125])\n",
    "for iRname in Region_names:\n",
    "    print(iRname+'==================')\n",
    "    File_SP = xr.open_mfdataset(SP_PATH_Region+iRname+'/*.nc')\n",
    "    File_UP = xr.open_mfdataset(UP_PATH_Region+iRname+'/*.nc')\n",
    "    File_UPhy = xr.open_mfdataset(UPhy_PATH_Region+iRname+'/*.nc')\n",
    "    File_UPhysedi12 = xr.open_mfdataset(UPhysedi12_PATH_Region+iRname+'/*.nc')\n",
    "    File_UPhysedi15 = xr.open_mfdataset(UPhysedi15_PATH_Region+iRname+'/*.nc')\n",
    "    File_UPhysedi17 = xr.open_mfdataset(UPhysedi17_PATH_Region+iRname+'/*.nc')\n",
    "    for iVar in Var2Dnames:\n",
    "        print(iVar+'==================')\n",
    "        evalstring = \"File_SP.\"+iVar+\".values\"\n",
    "        Var_SP = eval(evalstring)\n",
    "        Var_SP.shape\n",
    "        evalstring = \"File_UP.\"+iVar+\".values\"\n",
    "        Var_UP = eval(evalstring)\n",
    "        evalstring = \"File_UPhy.\"+iVar+\".values\"\n",
    "        Var_UPhy = eval(evalstring)\n",
    "        evalstring = \"File_UPhysedi12.\"+iVar+\".values\"\n",
    "        Var_UPhysedi12 = eval(evalstring)\n",
    "        evalstring = \"File_UPhysedi15.\"+iVar+\".values\"\n",
    "        Var_UPhysedi15 = eval(evalstring)\n",
    "        evalstring = \"File_UPhysedi17.\"+iVar+\".values\"\n",
    "        Var_UPhysedi17 = eval(evalstring)\n"
   ]
  },
  {
   "cell_type": "code",
   "execution_count": null,
   "id": "failing-cemetery",
   "metadata": {},
   "outputs": [],
   "source": []
  },
  {
   "cell_type": "code",
   "execution_count": null,
   "id": "hispanic-plastic",
   "metadata": {},
   "outputs": [],
   "source": []
  }
 ],
 "metadata": {
  "kernelspec": {
   "display_name": "Python 3",
   "language": "python",
   "name": "python3"
  },
  "language_info": {
   "codemirror_mode": {
    "name": "ipython",
    "version": 3
   },
   "file_extension": ".py",
   "mimetype": "text/x-python",
   "name": "python",
   "nbconvert_exporter": "python",
   "pygments_lexer": "ipython3",
   "version": "3.7.3"
  }
 },
 "nbformat": 4,
 "nbformat_minor": 5
}
